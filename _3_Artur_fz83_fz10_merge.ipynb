{
 "cells": [
  {
   "cell_type": "markdown",
   "id": "f37c706d",
   "metadata": {},
   "source": [
    "### FZ83 + 10"
   ]
  },
  {
   "cell_type": "code",
   "execution_count": null,
   "id": "09f02e8d",
   "metadata": {},
   "outputs": [],
   "source": [
    "import pandas as pd\n",
    "from pathlib import Path\n",
    "\n",
    "df_fz83_global  = pd.read_csv(\"./data/processed/df_fz83.csv\",  dtype=str)\n",
    "df_fz10_global  = pd.read_csv(\"./data/processed/df_fz10.csv\",  dtype=str)\n",
    "\n",
    "df_fz83_global.columns = [str(c).replace('\\n', ' ').strip() for c in df_fz83_global.columns]\n",
    "df_fz10_global.columns = [str(c).replace('\\n', ' ').strip() for c in df_fz10_global.columns]\n",
    "\n",
    "# df_fz83_global = df_fz83_global.query(\"Modellreihe.notna() and Modellreihe != ''\")\n",
    "# df_fz10_global = df_fz10_global.query(\"Modellreihe.notna() and Modellreihe != ''\")\n",
    "\n",
    "keys = [\"Date\", \"Modellreihe\"]\n",
    "df_83_10_global = df_fz83_global.merge(df_fz10_global, on=keys, how=\"outer\", suffixes=(\"_8.3\", \"_10.1\"))"
   ]
  },
  {
   "cell_type": "code",
   "execution_count": null,
   "id": "5354ff5b",
   "metadata": {},
   "outputs": [],
   "source": [
    "OUT_DIR = \"./data/processed\"\n",
    "Path(OUT_DIR).mkdir(parents=True, exist_ok=True)\n",
    "\n",
    "df_83_10_global.to_csv(f\"{OUT_DIR}/df_fz8.3_fz10.csv\", index=False, encoding=\"utf-8\")\n",
    "print(\"✓ Saved df_83_10_global.csv\")"
   ]
  },
  {
   "cell_type": "code",
   "execution_count": null,
   "id": "41216c23",
   "metadata": {},
   "outputs": [],
   "source": [
    "df_83_10_global"
   ]
  },
  {
   "cell_type": "code",
   "execution_count": null,
   "id": "053e1af1",
   "metadata": {},
   "outputs": [],
   "source": [
    "df_83_10_global.info()"
   ]
  },
  {
   "cell_type": "code",
   "execution_count": null,
   "id": "9c3b962a",
   "metadata": {},
   "outputs": [],
   "source": [
    "df_83_10_global.columns"
   ]
  }
 ],
 "metadata": {
  "kernelspec": {
   "display_name": "base",
   "language": "python",
   "name": "python3"
  },
  "language_info": {
   "codemirror_mode": {
    "name": "ipython",
    "version": 3
   },
   "file_extension": ".py",
   "mimetype": "text/x-python",
   "name": "python",
   "nbconvert_exporter": "python",
   "pygments_lexer": "ipython3",
   "version": "3.9.21"
  }
 },
 "nbformat": 4,
 "nbformat_minor": 5
}
