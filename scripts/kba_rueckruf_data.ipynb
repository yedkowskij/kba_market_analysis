{
 "cells": [
  {
   "cell_type": "code",
   "execution_count": null,
   "id": "e69d5e72",
   "metadata": {},
   "outputs": [],
   "source": [
    "import pandas as pd"
   ]
  },
  {
   "cell_type": "code",
   "execution_count": null,
   "id": "3cc3e3ed",
   "metadata": {},
   "outputs": [],
   "source": [
    "df = pd.read_excel(\"./data/raw/export-vollständig-2025-05-30.xlsx\", sheet_name=\"Fahrzeuge\", dtype=str)"
   ]
  },
  {
   "cell_type": "code",
   "execution_count": null,
   "id": "b0f8b492",
   "metadata": {},
   "outputs": [],
   "source": [
    "df.info()"
   ]
  },
  {
   "cell_type": "code",
   "execution_count": null,
   "id": "1a2faeb2",
   "metadata": {},
   "outputs": [],
   "source": [
    "df"
   ]
  },
  {
   "cell_type": "code",
   "execution_count": null,
   "id": "9dae8286",
   "metadata": {},
   "outputs": [],
   "source": [
    "df[\"Modell\"] = df[\"Modell\"].str.split(\",\")          # → list\n",
    "bridge = df.explode(\"Modell\")                       # one row per model\n",
    "bridge[\"Modell\"] = bridge[\"Modell\"].str.strip()     # trim spaces"
   ]
  },
  {
   "cell_type": "code",
   "execution_count": null,
   "id": "bc65d05d",
   "metadata": {},
   "outputs": [],
   "source": [
    "bridge"
   ]
  },
  {
   "cell_type": "code",
   "execution_count": 9,
   "id": "bda3c29d",
   "metadata": {},
   "outputs": [
    {
     "name": "stdout",
     "output_type": "stream",
     "text": [
      "<class 'pandas.core.frame.DataFrame'>\n",
      "Index: 12972 entries, 0 to 7083\n",
      "Data columns (total 18 columns):\n",
      " #   Column                                                                          Non-Null Count  Dtype \n",
      "---  ------                                                                          --------------  ----- \n",
      " 0   KBA-Referenznummer                                                              12972 non-null  object\n",
      " 1   Rückrufcode des Herstellers                                                     12352 non-null  object\n",
      " 2   Veröffentlichungsdatum                                                          12972 non-null  object\n",
      " 3   Marke                                                                           12967 non-null  object\n",
      " 4   Modell                                                                          12967 non-null  object\n",
      " 5   Mangelbezeichnung                                                               12972 non-null  object\n",
      " 6   Produktionszeitraum von                                                         12972 non-null  object\n",
      " 7   Produktionszeitraum bis                                                         12972 non-null  object\n",
      " 8   Hotline des Herstellers                                                         12920 non-null  object\n",
      " 9   Rückrufseite des Herstellers                                                    492 non-null    object\n",
      " 10  Mangelbeschreibung                                                              12972 non-null  object\n",
      " 11  Titel der Maßnahme                                                              16 non-null     object\n",
      " 12  Beschreibung der Maßnahme                                                       10265 non-null  object\n",
      " 13  Mögliche Eingrenzung der betroffenen Modelle                                    3100 non-null   object\n",
      " 14  Bekannte Vorfälle mit Sach- und/oder Personenschäden                            3607 non-null   object\n",
      " 15  Anzahl potentiell betroffene Fahrzeugteile und Fahrzeugzubehör weltweit         10447 non-null  object\n",
      " 16  Anzahl potentiell betroffene Fahrzeugteile und Fahrzeugzubehör deutschlandweit  12572 non-null  object\n",
      " 17  Überwachung der Rückrufaktion durch das KBA                                     12916 non-null  object\n",
      "dtypes: object(18)\n",
      "memory usage: 1.9+ MB\n"
     ]
    }
   ],
   "source": [
    "bridge.info()"
   ]
  }
 ],
 "metadata": {
  "kernelspec": {
   "display_name": "base",
   "language": "python",
   "name": "python3"
  },
  "language_info": {
   "codemirror_mode": {
    "name": "ipython",
    "version": 3
   },
   "file_extension": ".py",
   "mimetype": "text/x-python",
   "name": "python",
   "nbconvert_exporter": "python",
   "pygments_lexer": "ipython3",
   "version": "3.9.21"
  }
 },
 "nbformat": 4,
 "nbformat_minor": 5
}
