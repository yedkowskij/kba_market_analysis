{
 "cells": [
  {
   "cell_type": "code",
   "execution_count": 1,
   "id": "03563536",
   "metadata": {},
   "outputs": [
    {
     "name": "stdout",
     "output_type": "stream",
     "text": [
      "✓ fz_3.1_raw.csv  ←  sheet «FZ 3.1»\n"
     ]
    }
   ],
   "source": [
    "from pathlib import Path\n",
    "import pandas as pd\n",
    "\n",
    "DATA_DIR = Path(\"../data/raw/fz3\")\n",
    "XLSX     = DATA_DIR / \"fz_3.1_raw.xlsx\"\n",
    "OUT_DIR  = DATA_DIR / \"csv\"\n",
    "OUT_DIR.mkdir(exist_ok=True)\n",
    "DST_DIR = Path(\"../data/processed/,\")\n",
    "\n",
    "def _strip_upper(df: pd.DataFrame) -> pd.DataFrame:\n",
    "    for col in df.columns[:4]:\n",
    "        df[col] = df[col].str.strip().str.upper()\n",
    "    return df\n",
    "\n",
    "def _to_float(col: pd.Series) -> pd.Series:\n",
    "    col = (\n",
    "        col.replace({'-': None, '.': None}, regex=False)\n",
    "           .str.replace(r\"\\s|\\.\", \"\", regex=True)\n",
    "           .str.replace(\",\", \".\", regex=False)\n",
    "    )\n",
    "    return pd.to_numeric(col, errors=\"coerce\").astype(\"float64\")\n",
    "\n",
    "df = pd.read_excel(XLSX, sheet_name=\"FZ 3.1\", dtype=str)\n",
    "df.columns = df.columns.str.strip().str.upper()\n",
    "\n",
    "df = _strip_upper(df)\n",
    "\n",
    "if df.shape[1] > 4:\n",
    "    df.iloc[:, 4:] = df.iloc[:, 4:].apply(_to_float, axis=0)\n",
    "\n",
    "out_name = \"fz_3.1_raw.csv\"\n",
    "out_path = OUT_DIR / out_name\n",
    "df.to_csv(out_path, index=False, encoding=\"utf-8\")\n",
    "out_path = DST_DIR / out_name\n",
    "df.to_csv(out_path, index=False, encoding=\"utf-8\")\n",
    "\n",
    "print(f\"✓ {out_path.name}  ←  sheet «FZ 3.1»\")"
   ]
  },
  {
   "cell_type": "code",
   "execution_count": 2,
   "id": "41462bba",
   "metadata": {},
   "outputs": [
    {
     "name": "stdout",
     "output_type": "stream",
     "text": [
      "\n",
      "===== fz_3.1_raw.csv =====\n",
      "<class 'pandas.core.frame.DataFrame'>\n",
      "RangeIndex: 64656 entries, 0 to 64655\n",
      "Data columns (total 12 columns):\n",
      " #   Column                                        Non-Null Count  Dtype  \n",
      "---  ------                                        --------------  -----  \n",
      " 0   DATE                                          64656 non-null  int64  \n",
      " 1   LAND                                          64656 non-null  object \n",
      " 2   ZULASSUNGSBEZIRK                              64656 non-null  object \n",
      " 3   GEMEINDE                                      64656 non-null  object \n",
      " 4   KRAFTRADER                                    62600 non-null  float64\n",
      " 5   PERSONENKRAFTWAGEN                            64644 non-null  float64\n",
      " 6   DARUNTER GEWERBLICHE HALTERINNEN UND HALTER   52322 non-null  float64\n",
      " 7   LASTKRAFTWAGEN                                54043 non-null  float64\n",
      " 8   ZUGMASCHINEN                                  60580 non-null  float64\n",
      " 9   DAR. LAND-FORST-WIRTSCHAFTLICHE ZUGMASCHINEN  60107 non-null  float64\n",
      " 10  SONSTIGE KFZ EINSCHL. KRAFTOMNIBUSSE          36654 non-null  float64\n",
      " 11  KRAFTFAHRZEUGANHANGER                         64489 non-null  float64\n",
      "dtypes: float64(8), int64(1), object(3)\n",
      "memory usage: 5.9+ MB\n"
     ]
    }
   ],
   "source": [
    "for csv_path in sorted(OUT_DIR.glob(\"*raw*.csv\")):          # only files that contain “2020”\n",
    "    df = pd.read_csv(csv_path)                    # read as text; change if you need numeric types\n",
    "    print(f\"\\n===== {csv_path.name} =====\")\n",
    "    df.info()\n",
    "    # display(df)"
   ]
  }
 ],
 "metadata": {
  "kernelspec": {
   "display_name": "base",
   "language": "python",
   "name": "python3"
  },
  "language_info": {
   "codemirror_mode": {
    "name": "ipython",
    "version": 3
   },
   "file_extension": ".py",
   "mimetype": "text/x-python",
   "name": "python",
   "nbconvert_exporter": "python",
   "pygments_lexer": "ipython3",
   "version": "3.9.21"
  }
 },
 "nbformat": 4,
 "nbformat_minor": 5
}
