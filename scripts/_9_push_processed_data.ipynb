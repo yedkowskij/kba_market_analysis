{
 "cells": [
  {
   "cell_type": "markdown",
   "id": "5346aa12",
   "metadata": {},
   "source": [
    "# ─────────────────────────── PUSH ALL DATA TO DATABASE ─────────────────────────"
   ]
  },
  {
   "cell_type": "code",
   "execution_count": 6,
   "id": "d524c8fd",
   "metadata": {},
   "outputs": [],
   "source": [
    "\"\"\"\n",
    "Upload processed CSV files into PostgreSQL tables.\n",
    "\n",
    "This script will:\n",
    "1. Load database connection parameters from a .env file.\n",
    "2. Create a SQLAlchemy engine.\n",
    "3. Iterate over every CSV in ../data/processed.\n",
    "4. Read each CSV as text-only into a pandas DataFrame.\n",
    "5. Map every column to SQL TEXT type.\n",
    "6. Replace (or create) the corresponding table in the target schema.\n",
    "\"\"\"\n",
    "\n",
    "from pathlib import Path\n",
    "from dotenv import dotenv_values\n",
    "import pandas as pd\n",
    "from sqlalchemy import create_engine\n",
    "from sqlalchemy.types import Text"
   ]
  },
  {
   "cell_type": "markdown",
   "id": "8d0ca5f2",
   "metadata": {},
   "source": [
    "## ───────────────────────────── LOAD CONFIG ─────────────────────────────"
   ]
  },
  {
   "cell_type": "code",
   "execution_count": 7,
   "id": "f24ecca4",
   "metadata": {},
   "outputs": [],
   "source": [
    "# Read .env into a dict of strings\n",
    "config    = dotenv_values()\n",
    "\n",
    "# Extract Postgres credentials / connection info\n",
    "pg_user   = config['POSTGRES_USER']\n",
    "pg_pass   = config['POSTGRES_PASS']\n",
    "pg_host   = config['POSTGRES_HOST']\n",
    "pg_port   = config['POSTGRES_PORT']\n",
    "pg_db     = config['POSTGRES_DB']\n",
    "pg_schema = config['POSTGRES_SCHEMA']"
   ]
  },
  {
   "cell_type": "code",
   "execution_count": 8,
   "id": "55223a35",
   "metadata": {},
   "outputs": [],
   "source": [
    "# Build the SQLAlchemy database URL\n",
    "db_url = f\"postgresql://{pg_user}:{pg_pass}@{pg_host}:{pg_port}/{pg_db}\"\n",
    "\n",
    "# This engine will manage connections & SQL execution\n",
    "engine = create_engine(db_url)"
   ]
  },
  {
   "cell_type": "markdown",
   "id": "e3dab83c",
   "metadata": {},
   "source": [
    "## ─────────────────────────── PROCESS CSV FILES ─────────────────────────"
   ]
  },
  {
   "cell_type": "code",
   "execution_count": 9,
   "id": "45da5561",
   "metadata": {},
   "outputs": [],
   "source": [
    "data_dir = Path(\"../data/processed/\")"
   ]
  },
  {
   "cell_type": "code",
   "execution_count": 10,
   "id": "bed27a4e",
   "metadata": {},
   "outputs": [
    {
     "name": "stdout",
     "output_type": "stream",
     "text": [
      "Uploaded: capstone_jan_artur._handelsnamen_pkw\n",
      "Uploaded: capstone_jan_artur.fz_08.7_raw\n",
      "Uploaded: capstone_jan_artur._modellreihen\n",
      "Uploaded: capstone_jan_artur.fz_08.6_raw\n",
      "Uploaded: capstone_jan_artur.fz_08.3_raw\n",
      "Uploaded: capstone_jan_artur.fz_10.1_raw\n",
      "Uploaded: capstone_jan_artur.fz_08.2_raw\n",
      "Uploaded: capstone_jan_artur.fz_08.16_raw\n",
      "Uploaded: capstone_jan_artur.fz_08.9_raw\n",
      "Uploaded: capstone_jan_artur.fz_08.8_raw\n",
      "Uploaded: capstone_jan_artur._eu_recall_2025_06_09\n",
      "Uploaded: capstone_jan_artur._ladesaeulenregister_2025_05_07\n",
      "Uploaded: capstone_jan_artur._rueckruf_2025_06_09\n"
     ]
    }
   ],
   "source": [
    "# Walk both “;” and “,” subfolders\n",
    "for csv_path in data_dir.glob(\"*/*.csv\"):\n",
    "    # derive table name from filename\n",
    "    table_name = csv_path.stem.lower().replace(\"-\", \"_\")\n",
    "\n",
    "    # determine delimiter from the parent folder name\n",
    "    sep = csv_path.parent.name  # either \";\" or \",\"\n",
    "\n",
    "    # read CSV as text, with the correct delimiter\n",
    "    df = pd.read_csv(\n",
    "        csv_path,\n",
    "        dtype=str,\n",
    "        sep=sep,\n",
    "        engine=\"python\",\n",
    "        on_bad_lines=\"warn\",\n",
    "        encoding=\"utf-8\"\n",
    "    )\n",
    "\n",
    "    # map every column to TEXT in Postgres\n",
    "    dtype_dict = {col: Text() for col in df.columns}\n",
    "    \n",
    "    # write (replace) into the target schema\n",
    "    df.to_sql(\n",
    "        name      = table_name,\n",
    "        con       = engine,\n",
    "        schema    = pg_schema,\n",
    "        if_exists = \"replace\",\n",
    "        index     = False,\n",
    "        dtype     = dtype_dict\n",
    "    )\n",
    "    \n",
    "    print(f\"Uploaded: {pg_schema}.{table_name}\")"
   ]
  }
 ],
 "metadata": {
  "kernelspec": {
   "display_name": "base",
   "language": "python",
   "name": "python3"
  },
  "language_info": {
   "codemirror_mode": {
    "name": "ipython",
    "version": 3
   },
   "file_extension": ".py",
   "mimetype": "text/x-python",
   "name": "python",
   "nbconvert_exporter": "python",
   "pygments_lexer": "ipython3",
   "version": "3.9.21"
  }
 },
 "nbformat": 4,
 "nbformat_minor": 5
}
