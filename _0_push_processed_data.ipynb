{
 "cells": [
  {
   "cell_type": "code",
   "execution_count": null,
   "id": "d524c8fd",
   "metadata": {},
   "outputs": [],
   "source": [
    "from pathlib import Path\n",
    "from dotenv import dotenv_values\n",
    "import pandas as pd\n",
    "from sqlalchemy import create_engine\n",
    "from sqlalchemy.types import Text"
   ]
  },
  {
   "cell_type": "code",
   "execution_count": null,
   "id": "f24ecca4",
   "metadata": {},
   "outputs": [],
   "source": [
    "config    = dotenv_values()\n",
    "pg_user   = config['POSTGRES_USER']\n",
    "pg_pass   = config['POSTGRES_PASS']\n",
    "pg_host   = config['POSTGRES_HOST']\n",
    "pg_port   = config['POSTGRES_PORT']\n",
    "pg_db     = config['POSTGRES_DB']\n",
    "pg_schema = config['POSTGRES_SCHEMA']"
   ]
  },
  {
   "cell_type": "code",
   "execution_count": null,
   "id": "55223a35",
   "metadata": {},
   "outputs": [],
   "source": [
    "db_url = f\"postgresql://{pg_user}:{pg_pass}@{pg_host}:{pg_port}/{pg_db}\"\n",
    "engine = create_engine(db_url)"
   ]
  },
  {
   "cell_type": "code",
   "execution_count": null,
   "id": "45da5561",
   "metadata": {},
   "outputs": [],
   "source": [
    "data_dir = Path(\"./data/processed\")"
   ]
  },
  {
   "cell_type": "code",
   "execution_count": null,
   "id": "bed27a4e",
   "metadata": {},
   "outputs": [],
   "source": [
    "for csv_path in data_dir.glob(\"*.csv\"):\n",
    "    table_name = csv_path.stem.lower()\n",
    "    \n",
    "    df = pd.read_csv(csv_path, dtype=str)\n",
    "    \n",
    "    dtype_dict = {col: Text() for col in df.columns}\n",
    "    \n",
    "    df.to_sql(name=table_name, con=engine, schema=pg_schema, if_exists=\"replace\", index=False, dtype=dtype_dict)\n",
    "    \n",
    "    print(f\"Uploaded: {pg_schema}.{table_name}\")"
   ]
  }
 ],
 "metadata": {
  "kernelspec": {
   "display_name": "base",
   "language": "python",
   "name": "python3"
  },
  "language_info": {
   "codemirror_mode": {
    "name": "ipython",
    "version": 3
   },
   "file_extension": ".py",
   "mimetype": "text/x-python",
   "name": "python",
   "nbconvert_exporter": "python",
   "pygments_lexer": "ipython3",
   "version": "3.9.21"
  }
 },
 "nbformat": 4,
 "nbformat_minor": 5
}
