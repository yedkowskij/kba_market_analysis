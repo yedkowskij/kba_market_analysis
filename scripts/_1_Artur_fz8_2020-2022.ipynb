{
 "cells": [
  {
   "cell_type": "markdown",
   "id": "ba5cbe4c",
   "metadata": {},
   "source": [
    "# FZ8 PREP (2020 - 2022)"
   ]
  },
  {
   "cell_type": "code",
   "execution_count": 1,
   "id": "5c7b70a1",
   "metadata": {},
   "outputs": [
    {
     "name": "stdout",
     "output_type": "stream",
     "text": [
      "✓ fz_8.2_2020-2022_raw.csv  ←  sheet «8.2 DONE»\n",
      "✓ fz_8.3_2020-2022_raw.csv  ←  sheet «8.3 DONE»\n",
      "✓ fz_8.6_2020-2022_raw.csv  ←  sheet «8.6 DONE»\n",
      "✓ fz_8.7_2020-2022_raw.csv  ←  sheet «8.7 DONE»\n",
      "✓ fz_8.8_2020-2022_raw.csv  ←  sheet «8.8 DONE»\n",
      "✓ fz_8.9_2020-2022_raw.csv  ←  sheet «8.9 DONE»\n",
      "✓ fz_8.16_2020-2022_raw.csv  ←  sheet «8.16 DONE»\n",
      "\n",
      "Ready.\n"
     ]
    }
   ],
   "source": [
    "\"\"\"\n",
    "Convert every sheet of the legacy workbook `_fz8_pdf_2020-2022.xlsx`\n",
    "into a header-less CSV file.\n",
    "\n",
    "Context\n",
    "-------\n",
    "The 2020-2022 data were delivered as a single “PDF-layout” Excel file.\n",
    "Here we do **no parsing** – we simply dump raw cell values so that they\n",
    "can later be merged with the 2023-2025 data (which *are* parsed).\n",
    "\n",
    "Output location\n",
    "---------------\n",
    "../data/raw/fz8/csv/fz_8.<N>_2020-2022_raw.csv\n",
    "where <N> is the sheet number (1 … 16).\n",
    "\n",
    "All cells are stored as text (`dtype=str`); the CSV has **no header**.\n",
    "\"\"\"\n",
    "\n",
    "# paths\n",
    "from pathlib import Path\n",
    "import pandas as pd\n",
    "from openpyxl import load_workbook\n",
    "\n",
    "DATA_DIR = Path(\"../data/raw/fz8\")\n",
    "XLSX     = DATA_DIR / \"_fz8_pdf_2020-2022.xlsx\"\n",
    "\n",
    "# extract\n",
    "wb = load_workbook(XLSX, read_only=True)\n",
    "\n",
    "for sheet in wb.sheetnames:\n",
    "    df = pd.read_excel(XLSX, sheet_name=sheet, dtype=str, header=None)\n",
    "\n",
    "    # Sheet name looks like “8.2 DONE” → take “8.2” part\n",
    "    number = sheet.split()[0]\n",
    "    csv_name = f\"fz_8.{number.split('.')[1]}_2020-2022_raw.csv\"\n",
    "\n",
    "    out_path = DATA_DIR / \"csv\" / csv_name\n",
    "    df.to_csv(out_path, index=False, header=False)\n",
    "    print(f\"✓ {out_path.name}  ←  sheet «{sheet}»\")\n",
    "\n",
    "print(\"\\nReady.\")"
   ]
  }
 ],
 "metadata": {
  "kernelspec": {
   "display_name": "base",
   "language": "python",
   "name": "python3"
  },
  "language_info": {
   "codemirror_mode": {
    "name": "ipython",
    "version": 3
   },
   "file_extension": ".py",
   "mimetype": "text/x-python",
   "name": "python",
   "nbconvert_exporter": "python",
   "pygments_lexer": "ipython3",
   "version": "3.9.21"
  }
 },
 "nbformat": 4,
 "nbformat_minor": 5
}
