{
 "cells": [
  {
   "cell_type": "markdown",
   "id": "ba5cbe4c",
   "metadata": {},
   "source": [
    "# FZ8 PREP (2020 - 2022)"
   ]
  },
  {
   "cell_type": "code",
   "execution_count": 1,
   "id": "5c7b70a1",
   "metadata": {},
   "outputs": [],
   "source": [
    "# \"\"\"\n",
    "# Convert every sheet of the legacy workbook `_fz8_pdf_2020-2022.xlsx`\n",
    "# into a header-less CSV file.\n",
    "\n",
    "# Context\n",
    "# -------\n",
    "# The 2020-2022 data were delivered as a single “PDF-layout” Excel file.\n",
    "# Here we do **no parsing** – we simply dump raw cell values so that they\n",
    "# can later be merged with the 2023-2025 data (which *are* parsed).\n",
    "\n",
    "# Output location\n",
    "# ---------------\n",
    "# ../data/raw/fz8/csv/fz_8.<N>_2020-2022_raw.csv\n",
    "# where <N> is the sheet number (1 … 16).\n",
    "\n",
    "# * Strings are trimmed & up-cased.  \n",
    "# * “–” or “.”  → NaN   → float64  \n",
    "# * Output CSV goes to  …/fz8/csv/fz_8.<N>_2020-2022_raw.csv\n",
    "#   **without** index, UTF-8 encoding.\n",
    "# \"\"\"\n",
    "\n",
    "from pathlib import Path\n",
    "import pandas as pd\n",
    "from openpyxl import load_workbook\n",
    "\n",
    "DATA_DIR = Path(\"../data/raw/fz8\")\n",
    "XLSX     = DATA_DIR / \"_fz8_pdf_2020-2022.xlsx\"\n",
    "CSV_DIR  = DATA_DIR / \"csv\"\n",
    "CSV_DIR.mkdir(exist_ok=True)"
   ]
  },
  {
   "cell_type": "code",
   "execution_count": 2,
   "id": "3ba19fbd",
   "metadata": {},
   "outputs": [],
   "source": [
    "# “8.3” keeps 3 string columns, all others 2\n",
    "TEXT_COLS = {\"8.3\": 3}\n",
    "DEFAULT_TEXT = 2"
   ]
  },
  {
   "cell_type": "code",
   "execution_count": 3,
   "id": "be61f1d8",
   "metadata": {},
   "outputs": [],
   "source": [
    "def _strip_upper(df):\n",
    "    \"\"\"Trim blanks & upper-case every *object* column (in-place, returns df).\"\"\"\n",
    "    obj = df.select_dtypes(include=\"object\")\n",
    "    df[obj.columns] = obj.apply(lambda s: s.str.strip().str.upper())\n",
    "    return df\n",
    "\n",
    "def _to_float(col):\n",
    "    \"\"\"Convert a string column to float64 with German number quirks handled.\"\"\"\n",
    "    col = (col.replace({\"-\": None, \".\": None})              # noisy placeholders → NaN\n",
    "              .str.replace(r\"\\s|\\.\", \"\", regex=True)        # remove blanks / thousand-dots\n",
    "              .str.replace(\",\", \".\", regex=False))          # German comma → dot\n",
    "    return pd.to_numeric(col, errors=\"coerce\")              # final float64"
   ]
  },
  {
   "cell_type": "code",
   "execution_count": 4,
   "id": "2e1886d7",
   "metadata": {},
   "outputs": [
    {
     "name": "stdout",
     "output_type": "stream",
     "text": [
      "✓ fz_8.2_2020-2022_raw.csv  ←  sheet «8.2 DONE»\n",
      "✓ fz_8.3_2020-2022_raw.csv  ←  sheet «8.3 DONE»\n",
      "✓ fz_8.6_2020-2022_raw.csv  ←  sheet «8.6 DONE»\n",
      "✓ fz_8.7_2020-2022_raw.csv  ←  sheet «8.7 DONE»\n",
      "✓ fz_8.8_2020-2022_raw.csv  ←  sheet «8.8 DONE»\n",
      "✓ fz_8.9_2020-2022_raw.csv  ←  sheet «8.9 DONE»\n",
      "✓ fz_8.16_2020-2022_raw.csv  ←  sheet «8.16 DONE»\n",
      "\n",
      "Ready.\n"
     ]
    }
   ],
   "source": [
    "wb = load_workbook(XLSX, read_only=True)\n",
    "\n",
    "for sheet in wb.sheetnames:\n",
    "    key        = sheet.split()[0]                           # \"8.2\"  from  \"8.2 DONE\"\n",
    "    keep_text  = TEXT_COLS.get(key, DEFAULT_TEXT)\n",
    "\n",
    "    # read whole sheet (keep original first row as columns)\n",
    "    df = pd.read_excel(XLSX, sheet_name=sheet, dtype=str)\n",
    "    df.columns = df.columns.str.strip().str.upper()\n",
    "\n",
    "    # clean string columns\n",
    "    df = _strip_upper(df)\n",
    "\n",
    "    # convert numeric part\n",
    "    if keep_text < df.shape[1]:\n",
    "        num_part = df.columns[keep_text:]\n",
    "        df[num_part] = df[num_part].apply(_to_float)\n",
    "\n",
    "    # export\n",
    "    csv_name = f\"fz_8.{key.split('.')[1]}_2020-2022_raw.csv\"\n",
    "    df.to_csv(CSV_DIR / csv_name, index=False, encoding=\"utf-8\")\n",
    "    print(f\"✓ {csv_name}  ←  sheet «{sheet}»\")\n",
    "\n",
    "print(\"\\nReady.\")"
   ]
  }
 ],
 "metadata": {
  "kernelspec": {
   "display_name": "base",
   "language": "python",
   "name": "python3"
  },
  "language_info": {
   "codemirror_mode": {
    "name": "ipython",
    "version": 3
   },
   "file_extension": ".py",
   "mimetype": "text/x-python",
   "name": "python",
   "nbconvert_exporter": "python",
   "pygments_lexer": "ipython3",
   "version": "3.9.21"
  }
 },
 "nbformat": 4,
 "nbformat_minor": 5
}
