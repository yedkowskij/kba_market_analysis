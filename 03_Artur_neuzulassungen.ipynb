{
 "cells": [
  {
   "cell_type": "code",
   "execution_count": null,
   "id": "5b1daf56",
   "metadata": {},
   "outputs": [],
   "source": [
    "import re\n",
    "from pathlib import Path\n",
    "import pandas as pd\n",
    "from openpyxl import load_workbook\n",
    "\n",
    "DATA_DIR = Path(\"./data/raw/neuzulassungen/fz8\")"
   ]
  },
  {
   "cell_type": "code",
   "execution_count": null,
   "id": "0c60ed5f",
   "metadata": {},
   "outputs": [],
   "source": [
    "def _date_from_fname(p):\n",
    "    return re.search(r\"(\\d{6})\", p.name).group(1)\n",
    "\n",
    "def _col(ws, letter, r0, r1):\n",
    "    return [ws[f\"{letter}{row}\"].value for row in range(r0, r1 + 1)]\n",
    "\n",
    "def _unique(cols):\n",
    "    seen, out = {}, []\n",
    "    for c in cols:\n",
    "        if c in seen:\n",
    "            seen[c] += 1\n",
    "            out.append(f\"{c}{seen[c]}\")\n",
    "        else:\n",
    "            seen[c] = 0\n",
    "            out.append(c)\n",
    "    return out"
   ]
  },
  {
   "cell_type": "code",
   "execution_count": null,
   "id": "6b67130a",
   "metadata": {},
   "outputs": [],
   "source": [
    "def fz8_1(ws):\n",
    "    cols = _unique([ws[\"B8\"].value, ws[\"C9\"].value])\n",
    "    df = (\n",
    "        pd.DataFrame({\n",
    "            cols[0]: _col(ws, \"B\", 10, 100),\n",
    "            cols[1]: _col(ws, \"C\", 10, 100),\n",
    "        })\n",
    "        .dropna(how=\"all\")\n",
    "    )\n",
    "\n",
    "    mask = df[cols[0]].astype(str).str.contains(\n",
    "        r\"INSGESAMT|FLENSBURG\", case=False, regex=True, na=False\n",
    "    )\n",
    "    df = df[~mask].reset_index(drop=True)\n",
    "\n",
    "    return df"
   ]
  },
  {
   "cell_type": "code",
   "execution_count": null,
   "id": "87a3c1b6",
   "metadata": {},
   "outputs": [],
   "source": [
    "def fz8_2(ws):\n",
    "    raw = [\n",
    "        ws[\"B8\"].value, ws[\"C8\"].value,\n",
    "        f\"{ws['D8'].value} {ws['D9'].value}\".strip(),\n",
    "        ws[\"F9\"].value, ws[\"G10\"].value, ws[\"H10\"].value,\n",
    "        ws[\"I9\"].value, ws[\"J9\"].value, ws[\"K10\"].value,\n",
    "    ]\n",
    "    cols = _unique(raw)\n",
    "    df = (\n",
    "        pd.DataFrame({\n",
    "            cols[0]: _col(ws, \"B\", 11, 100),\n",
    "            cols[1]: _col(ws, \"C\", 11, 100),\n",
    "            cols[2]: _col(ws, \"D\", 11, 100),\n",
    "            cols[3]: _col(ws, \"F\", 11, 100),\n",
    "            cols[4]: _col(ws, \"G\", 11, 100),\n",
    "            cols[5]: _col(ws, \"H\", 11, 100),\n",
    "            cols[6]: _col(ws, \"I\", 11, 100),\n",
    "            cols[7]: _col(ws, \"J\", 11, 100),\n",
    "            cols[8]: _col(ws, \"K\", 11, 100),\n",
    "        })\n",
    "        .dropna(how=\"all\")\n",
    "    )\n",
    "\n",
    "    mask = df[cols[0]].astype(str).str.contains(\n",
    "        r\"INSGESAMT|FLENSBURG\", case=False, regex=True, na=False\n",
    "    )\n",
    "    df = df[~mask].reset_index(drop=True)\n",
    "\n",
    "    return df"
   ]
  },
  {
   "cell_type": "code",
   "execution_count": null,
   "id": "fb4d6538",
   "metadata": {},
   "outputs": [],
   "source": [
    "# def fz8_3(ws):\n",
    "#     raw_headers = [\n",
    "#         ws[\"B8\"].value, ws[\"C8\"].value, ws[\"D10\"].value, ws[\"E10\"].value,\n",
    "#         ws[\"F9\"].value, ws[\"G10\"].value, ws[\"H10\"].value,\n",
    "#         ws[\"I9\"].value, ws[\"J10\"].value, ws[\"K10\"].value,\n",
    "#         ws[\"L9\"].value, ws[\"M9\"].value, ws[\"N9\"].value,\n",
    "#         ws[\"O10\"].value, ws[\"P9\"].value,\n",
    "#     ]\n",
    "#     cols = _unique(raw_headers)\n",
    "\n",
    "#     letters = \"BCDEFGHIJKLMNOP\"[:15]\n",
    "#     rows = [\n",
    "#         [ws[f\"{c}{r}\"].value for c in letters]\n",
    "#         for r in range(11, 501)\n",
    "#         if not all(ws[f\"{c}{r}\"].value is None for c in letters)\n",
    "#     ]\n",
    "#     df = pd.DataFrame(rows, columns=cols)\n",
    "\n",
    "#     seg_col = next((c for c in df.columns if c and \"segment\" in str(c).lower()), df.columns[0])\n",
    "#     df[seg_col] = df[seg_col].ffill()\n",
    "\n",
    "#     trash = r\"ZUSAMMEN|INSGESAMT|HINWEISE|AUSGEWIESEN|KRAFTSTOFFVERBRAUCH|FLENSBURG\"\n",
    "#     mask = df[seg_col].astype(str).str.contains(trash, case=False, regex=True, na=False)\n",
    "#     df = df[~mask].reset_index(drop=True)\n",
    "\n",
    "#     mod_col = next((c for c in df.columns if c and \"modellreihe\" in str(c).lower()), None)\n",
    "#     if mod_col:\n",
    "#         is_sonstige = df[seg_col].astype(str).str.contains(r\"\\bSONSTIGE\\b\", case=False, regex=True, na=False)\n",
    "#         df.loc[is_sonstige, mod_col] = \"SONSTIGE\"\n",
    "\n",
    "#     return df"
   ]
  },
  {
   "cell_type": "code",
   "execution_count": null,
   "id": "5be2f35e",
   "metadata": {},
   "outputs": [],
   "source": [
    "def fz8_7(ws):\n",
    "    raw = [\n",
    "        ws[\"B8\"].value, ws[\"C8\"].value, ws[\"D9\"].value, ws[\"E9\"].value,\n",
    "        ws[\"F9\"].value, ws[\"G9\"].value, ws[\"H9\"].value, ws[\"I9\"].value,\n",
    "        ws[\"J9\"].value, ws[\"K9\"].value, ws[\"L9\"].value, ws[\"M9\"].value, ws[\"N9\"].value,\n",
    "    ]\n",
    "    cols = _unique(raw)\n",
    "    letters = \"BCDEFGHIJKLMN\"[:13]\n",
    "    rows = [\n",
    "        [ws[f\"{c}{r}\"].value for c in letters]\n",
    "        for r in range(10, 101)\n",
    "        if not all(ws[f\"{c}{r}\"].value is None for c in letters)\n",
    "    ]\n",
    "    df = pd.DataFrame(rows, columns=cols)\n",
    "\n",
    "    for c in list(df.columns):\n",
    "        if isinstance(c, str) and \"insgesamt\" in c.lower():\n",
    "            df.rename(columns={c: \"Anzahl\"}, inplace=True)\n",
    "            break\n",
    "\n",
    "    mask = df[cols[0]].astype(str).str.contains(\n",
    "        r\"INSGESAMT|DARUNTER|FLENSBURG\", case=False, regex=True, na=False\n",
    "    )\n",
    "    return df[~mask].reset_index(drop=True)"
   ]
  },
  {
   "cell_type": "code",
   "execution_count": null,
   "id": "fd9e7bdb",
   "metadata": {},
   "outputs": [],
   "source": [
    "def fz8_9(ws):\n",
    "    raw = [\n",
    "        ws[\"B8\"].value, ws[\"C8\"].value, ws[\"D8\"].value, ws[\"F8\"].value,\n",
    "        ws[\"H9\"].value, ws[\"J9\"].value, ws[\"L9\"].value,\n",
    "        ws[\"N9\"].value, ws[\"P9\"].value, ws[\"R8\"].value,\n",
    "    ]\n",
    "    cols = _unique(raw)\n",
    "    letters = [\"B\",\"C\",\"D\",\"F\",\"H\",\"J\",\"L\",\"N\",\"P\",\"R\"]\n",
    "    rows = [\n",
    "        [ws[f\"{c}{r}\"].value for c in letters]\n",
    "        for r in range(11, 101)\n",
    "        if not all(ws[f\"{c}{r}\"].value is None for c in letters)\n",
    "    ]\n",
    "    df = pd.DataFrame(rows, columns=cols)\n",
    "\n",
    "    for c in list(df.columns):\n",
    "        if isinstance(c, str) and \"insgesamt\" in c.lower():\n",
    "            df.rename(columns={c: \"Anzahl\"}, inplace=True)\n",
    "            break\n",
    "\n",
    "    mask = df[cols[0]].astype(str).str.contains(\n",
    "        r\"INSGESAMT|HINWEIS|ERBRINGUNG|FLENSBURG\",\n",
    "        case=False, regex=True, na=False\n",
    "    )\n",
    "    return df[~mask].reset_index(drop=True)"
   ]
  },
  {
   "cell_type": "code",
   "execution_count": null,
   "id": "e6aa3024",
   "metadata": {},
   "outputs": [],
   "source": [
    "df_fz8_global = pd.DataFrame()\n",
    "\n",
    "for path in sorted(DATA_DIR.glob(\"fz8_*.xlsx\")):\n",
    "    wb   = load_workbook(path, data_only=True)\n",
    "    date = _date_from_fname(path)\n",
    "\n",
    "    df_fz81 = fz8_1(wb[\"FZ 8.1\"]); df_fz81.insert(0, \"Date\", date)\n",
    "    df_fz82 = fz8_2(wb[\"FZ 8.2\"]); df_fz82.insert(0, \"Date\", date)\n",
    "    # df_fz83 = fz8_3(wb[\"FZ 8.3\"]); df_fz83.insert(0, \"Date\", date)\n",
    "    df_fz87 = fz8_7(wb[\"FZ 8.7\"]); df_fz87.insert(0, \"Date\", date)\n",
    "    df_fz89 = fz8_9(wb[\"FZ 8.9\"]); df_fz89.insert(0, \"Date\", date)\n",
    "\n",
    "    keys = ['Date', 'Marke', 'Anzahl']\n",
    "    tmp = df_fz81.merge(df_fz82, on=keys, how='outer', suffixes=('', '_dup'))\n",
    "    tmp = tmp.loc[:, ~tmp.columns.str.endswith('_dup')]\n",
    "\n",
    "    tmp = tmp.merge(df_fz87, on=keys, how='outer', suffixes=('', '_dup'))\n",
    "    tmp = tmp.loc[:, ~tmp.columns.str.endswith('_dup')]\n",
    "\n",
    "    df_fz8_total = tmp.merge(df_fz89, on=keys, how='outer', suffixes=('', '_dup'))\n",
    "    df_fz8_total = df_fz8_total.loc[:, ~df_fz8_total.columns.str.endswith('_dup')]\n",
    "\n",
    "    globals()[f\"{date}_fz8_total\"] = df_fz8_total\n",
    "\n",
    "    df_fz8_global = pd.concat([df_fz8_global, df_fz8_total], ignore_index=True)"
   ]
  },
  {
   "cell_type": "code",
   "execution_count": null,
   "id": "8840456f",
   "metadata": {},
   "outputs": [],
   "source": [
    "df_fz81"
   ]
  },
  {
   "cell_type": "code",
   "execution_count": null,
   "id": "b7321b11",
   "metadata": {},
   "outputs": [],
   "source": [
    "df_fz82"
   ]
  },
  {
   "cell_type": "code",
   "execution_count": null,
   "id": "9fc91bd8",
   "metadata": {},
   "outputs": [],
   "source": [
    "# df_fz83"
   ]
  },
  {
   "cell_type": "code",
   "execution_count": null,
   "id": "d7c62090",
   "metadata": {},
   "outputs": [],
   "source": [
    "df_fz87"
   ]
  },
  {
   "cell_type": "code",
   "execution_count": null,
   "id": "441c18fb",
   "metadata": {},
   "outputs": [],
   "source": [
    "df_fz89"
   ]
  },
  {
   "cell_type": "code",
   "execution_count": null,
   "id": "91076e0a",
   "metadata": {},
   "outputs": [],
   "source": [
    "df_fz8_total"
   ]
  },
  {
   "cell_type": "code",
   "execution_count": null,
   "id": "b21e108e",
   "metadata": {},
   "outputs": [],
   "source": [
    "df_fz8_global"
   ]
  },
  {
   "cell_type": "code",
   "execution_count": null,
   "id": "57f3a6ea",
   "metadata": {},
   "outputs": [],
   "source": [
    "df_fz8_global.info()"
   ]
  }
 ],
 "metadata": {
  "kernelspec": {
   "display_name": "base",
   "language": "python",
   "name": "python3"
  },
  "language_info": {
   "codemirror_mode": {
    "name": "ipython",
    "version": 3
   },
   "file_extension": ".py",
   "mimetype": "text/x-python",
   "name": "python",
   "nbconvert_exporter": "python",
   "pygments_lexer": "ipython3",
   "version": "3.9.21"
  }
 },
 "nbformat": 4,
 "nbformat_minor": 5
}
