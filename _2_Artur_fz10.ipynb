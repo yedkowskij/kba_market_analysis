{
 "cells": [
  {
   "cell_type": "markdown",
   "id": "cab32df8",
   "metadata": {},
   "source": [
    "### FZ10"
   ]
  },
  {
   "cell_type": "code",
   "execution_count": null,
   "id": "5b1daf56",
   "metadata": {},
   "outputs": [],
   "source": [
    "import re\n",
    "from pathlib import Path\n",
    "import pandas as pd\n",
    "from openpyxl import load_workbook\n",
    "\n",
    "DATA_DIR = Path(\"./data/raw/neuzulassungen/fz10\")"
   ]
  },
  {
   "cell_type": "code",
   "execution_count": null,
   "id": "0c60ed5f",
   "metadata": {},
   "outputs": [],
   "source": [
    "def _date_from_fname(p):\n",
    "    y, m = re.search(r\"(\\d{4})_(\\d{2})\", p.name).groups()\n",
    "    return y + m\n",
    "\n",
    "def _strip_cols(df):\n",
    "    df.columns = [\n",
    "        re.sub(r'\\s{2,}', ' ', str(c).replace('\\n', ' ').strip()) if isinstance(c, str) else c for c in df.columns]\n",
    "    return df\n",
    "\n",
    "def _unique(cols):\n",
    "    seen, out = {}, []\n",
    "    for c in cols:\n",
    "        if c in seen:\n",
    "            seen[c] += 1\n",
    "            out.append(f\"{c}{seen[c]}\")\n",
    "        else:\n",
    "            seen[c] = 0\n",
    "            out.append(c)\n",
    "    return out\n",
    "\n",
    "def _col(ws, letter, r0, r1):\n",
    "    return [ws[f\"{letter}{row}\"].value for row in range(r0, r1 + 1)]\n",
    "\n",
    "def _find_sheet(wb, pattern=r\"^FZ\\s*10\\.1$\"):\n",
    "    regex = re.compile(pattern, flags=re.IGNORECASE)\n",
    "    for name in wb.sheetnames:\n",
    "        if regex.match(name.strip()):\n",
    "            return name\n",
    "    return None"
   ]
  },
  {
   "cell_type": "code",
   "execution_count": null,
   "id": "086c09ae",
   "metadata": {},
   "outputs": [],
   "source": [
    "def fz10_1(ws):\n",
    "    hdr_map = {\n",
    "        \"B\": 9,  \"C\": 9,  \"D\": 8,  \"G\": 8,  \"J\": 8,  \"M\": 8,\n",
    "        \"P\": 8,  \"S\": 8,  \"V\": 8,  \"Y\": 8,  \"AB\": 8, \"AE\": 8,\n",
    "        \"AH\": 8, \"AK\": 8, \"AN\": 8, \"AQ\": 8,\n",
    "    }\n",
    "    headers = [ws[f\"{col}{row}\"].value for col, row in hdr_map.items()]\n",
    "    cols    = _unique(headers)\n",
    "\n",
    "    df = pd.DataFrame(\n",
    "        {col: _col(ws, let, 10, 1000) for col, let in zip(cols, hdr_map.keys())}\n",
    "    ).dropna(how=\"all\")\n",
    "    df = _strip_cols(df)\n",
    "\n",
    "    rename_map = {}\n",
    "    for c in df.columns:\n",
    "        cl = str(c).strip()\n",
    "        if cl.lower() == \"mit hybridantrieb (incl. plug-in-hybrid)\":\n",
    "            rename_map[c] = \"mit Hybridantrieb\"\n",
    "        elif cl.lower() == \"mit elektroantrieb (bev)\":\n",
    "            rename_map[c] = \"mit Elektroantrieb\"\n",
    "    if rename_map:\n",
    "        df.rename(columns=rename_map, inplace=True)\n",
    "\n",
    "    modell_col = None\n",
    "    for c in list(df.columns):\n",
    "        if \"modellreihe\" in str(c).lower():\n",
    "            df.rename(columns={c: \"Modell\"}, inplace=True)\n",
    "            modell_col = \"Modell\"\n",
    "\n",
    "    marke_col = next((c for c in df.columns if \"marke\" in str(c).lower()), df.columns[0])\n",
    "\n",
    "    mask = df[marke_col].astype(str).str.contains(\n",
    "        r\"INSGESAMT|ZUSAMMEN|FLENSBURG|ANZAHL|HINWEIS\", case=False, na=False\n",
    "    )\n",
    "    df = df[~mask].reset_index(drop=True)\n",
    "\n",
    "    df[marke_col] = df[marke_col].ffill()\n",
    "\n",
    "    sonstige_mask = df[marke_col].astype(str).str.contains(r\"\\bSONSTIGE\\b\", case=False, na=False)\n",
    "    seg_idx = df.columns.get_loc(marke_col)\n",
    "    if seg_idx + 1 < len(df.columns):\n",
    "        next_col = df.columns[seg_idx + 1]\n",
    "        df.loc[sonstige_mask, next_col] = \"SONSTIGE\"\n",
    "\n",
    "    if modell_col and marke_col:\n",
    "        insert_pos = df.columns.get_loc(modell_col) + 1\n",
    "        df.insert(\n",
    "            insert_pos,\n",
    "            \"Modellreihe\",\n",
    "            (df[marke_col].fillna(\"\") + \" \" + df[modell_col].fillna(\"\")).str.strip(),\n",
    "        )\n",
    "\n",
    "    return df"
   ]
  },
  {
   "cell_type": "code",
   "execution_count": null,
   "id": "e6aa3024",
   "metadata": {},
   "outputs": [],
   "source": [
    "df_fz10_global = pd.DataFrame()\n",
    "\n",
    "for path in sorted(DATA_DIR.glob(\"fz10_*.xlsx\")):\n",
    "    wb   = load_workbook(path, data_only=True)\n",
    "    date = _date_from_fname(path)\n",
    "\n",
    "    sheet_name = _find_sheet(wb)\n",
    "    if not sheet_name:\n",
    "        print(f\"'FZ10.1' not found in {path.name} — skipped\")\n",
    "        continue\n",
    "\n",
    "    df_fz101 = fz10_1(wb[sheet_name]); df_fz101.insert(0, \"Date\", date)\n",
    "\n",
    "    globals()[f\"{date}_fz10_1\"] = df_fz101\n",
    "    df_fz10_global = pd.concat([df_fz10_global, df_fz101], ignore_index=True)\n",
    "\n",
    "    df_fz10_global.drop(columns=df_fz10_global.columns[10:], inplace=True)"
   ]
  },
  {
   "cell_type": "code",
   "execution_count": null,
   "id": "3a446534",
   "metadata": {},
   "outputs": [],
   "source": [
    "OUT_DIR = \"./data/processed\"\n",
    "Path(OUT_DIR).mkdir(parents=True, exist_ok=True)\n",
    "\n",
    "df_fz10_global.to_csv(f\"{OUT_DIR}/df_fz10.csv\", index=False, encoding=\"utf-8\")\n",
    "print(\"✓ Saved df_fz10_global.csv\")"
   ]
  },
  {
   "cell_type": "code",
   "execution_count": null,
   "id": "b21e108e",
   "metadata": {},
   "outputs": [],
   "source": [
    "df_fz10_global"
   ]
  },
  {
   "cell_type": "code",
   "execution_count": null,
   "id": "57f3a6ea",
   "metadata": {},
   "outputs": [],
   "source": [
    "df_fz10_global.info()"
   ]
  },
  {
   "cell_type": "code",
   "execution_count": null,
   "id": "fcf8b746",
   "metadata": {},
   "outputs": [],
   "source": [
    "df_fz10_global.columns"
   ]
  }
 ],
 "metadata": {
  "kernelspec": {
   "display_name": "base",
   "language": "python",
   "name": "python3"
  },
  "language_info": {
   "codemirror_mode": {
    "name": "ipython",
    "version": 3
   },
   "file_extension": ".py",
   "mimetype": "text/x-python",
   "name": "python",
   "nbconvert_exporter": "python",
   "pygments_lexer": "ipython3",
   "version": "3.9.21"
  }
 },
 "nbformat": 4,
 "nbformat_minor": 5
}
